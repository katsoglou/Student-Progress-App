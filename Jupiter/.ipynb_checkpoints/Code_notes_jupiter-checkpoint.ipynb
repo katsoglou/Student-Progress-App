{
 "cells": [
  {
   "cell_type": "markdown",
   "id": "d22f022a-f12e-479d-811e-857872b1eb0b",
   "metadata": {},
   "source": [
    "## Code Notes"
   ]
  },
  {
   "cell_type": "code",
   "execution_count": null,
   "id": "2ca922aa-1c37-4983-aa19-917f3306797f",
   "metadata": {},
   "outputs": [],
   "source": []
  }
 ],
 "metadata": {
  "kernelspec": {
   "display_name": "Python 3 (ipykernel)",
   "language": "python",
   "name": "python3"
  },
  "language_info": {
   "codemirror_mode": {
    "name": "ipython",
    "version": 3
   },
   "file_extension": ".py",
   "mimetype": "text/x-python",
   "name": "python",
   "nbconvert_exporter": "python",
   "pygments_lexer": "ipython3",
   "version": "3.10.9"
  }
 },
 "nbformat": 4,
 "nbformat_minor": 5
}
